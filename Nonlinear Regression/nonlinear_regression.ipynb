{
 "cells": [
  {
   "cell_type": "markdown",
   "id": "15627a99",
   "metadata": {},
   "source": [
    "# Nonlinear Regression Predictor – Ice Cream Sales"
   ]
  },
  {
   "cell_type": "markdown",
   "id": "96a34938",
   "metadata": {},
   "source": [
    "### Project Description:\n",
    "This project explores nonlinear regression techniques to model the relationship between temperature and ice cream sales using a simple dataset from Kaggle. It begins with polynomial regression to capture the quadratic relationship and progresses to more advanced techniques, including learning both weights and exponents (learnable feature transformations). The project also implements k-fold cross-validation to evaluate model generalization and prevent overfitting.\n",
    "\n",
    "### Objectives:\n",
    "* Load and explore a real-world ice cream selling dataset from Kaggle\n",
    "* Visualize the relationship between temperature and sales to motivate the use of polynomial regression\n",
    "* Implement polynomial regression from scratch, including design matrix construction and gradient descent optimization\n",
    "* Extend the approach to support learnable exponents for flexible feature transformation\n",
    "* Evaluate model performance using mean squared error (MSE) and visualize the fitted regression curve\n",
    "\n",
    "### Public dataset source:\n",
    "[Kaggle Ice Cream Selling Data Set](https://www.kaggle.com/datasets/mirajdeepbhandari/polynomial-regression)\n",
    "The data contains information on the temperature and the corresponding number of units of ice cream sold"
   ]
  },
  {
   "cell_type": "code",
   "execution_count": null,
   "id": "e0824e2b",
   "metadata": {},
   "outputs": [],
   "source": [
    "# Import libraries\n",
    "import pandas as pd\n",
    "import numpy as np\n",
    "import matplotlib.pyplot as plt\n",
    "import seaborn as sns\n",
    "from matplotlib.ticker import FuncFormatter\n",
    "from sklearn.metrics import r2_score"
   ]
  },
  {
   "cell_type": "code",
   "execution_count": null,
   "id": "4ea80913",
   "metadata": {},
   "outputs": [
    {
     "data": {
      "text/html": [
       "<div>\n",
       "<style scoped>\n",
       "    .dataframe tbody tr th:only-of-type {\n",
       "        vertical-align: middle;\n",
       "    }\n",
       "\n",
       "    .dataframe tbody tr th {\n",
       "        vertical-align: top;\n",
       "    }\n",
       "\n",
       "    .dataframe thead th {\n",
       "        text-align: right;\n",
       "    }\n",
       "</style>\n",
       "<table border=\"1\" class=\"dataframe\">\n",
       "  <thead>\n",
       "    <tr style=\"text-align: right;\">\n",
       "      <th></th>\n",
       "      <th>male</th>\n",
       "      <th>age</th>\n",
       "      <th>education</th>\n",
       "      <th>currentSmoker</th>\n",
       "      <th>cigsPerDay</th>\n",
       "      <th>BPMeds</th>\n",
       "      <th>prevalentStroke</th>\n",
       "      <th>prevalentHyp</th>\n",
       "      <th>diabetes</th>\n",
       "      <th>totChol</th>\n",
       "      <th>sysBP</th>\n",
       "      <th>diaBP</th>\n",
       "      <th>BMI</th>\n",
       "      <th>heartRate</th>\n",
       "      <th>glucose</th>\n",
       "      <th>TenYearCHD</th>\n",
       "    </tr>\n",
       "  </thead>\n",
       "  <tbody>\n",
       "    <tr>\n",
       "      <th>0</th>\n",
       "      <td>1</td>\n",
       "      <td>39</td>\n",
       "      <td>4.0</td>\n",
       "      <td>0</td>\n",
       "      <td>0.0</td>\n",
       "      <td>0.0</td>\n",
       "      <td>0</td>\n",
       "      <td>0</td>\n",
       "      <td>0</td>\n",
       "      <td>195.0</td>\n",
       "      <td>106.0</td>\n",
       "      <td>70.0</td>\n",
       "      <td>26.97</td>\n",
       "      <td>80.0</td>\n",
       "      <td>77.0</td>\n",
       "      <td>0</td>\n",
       "    </tr>\n",
       "    <tr>\n",
       "      <th>1</th>\n",
       "      <td>0</td>\n",
       "      <td>46</td>\n",
       "      <td>2.0</td>\n",
       "      <td>0</td>\n",
       "      <td>0.0</td>\n",
       "      <td>0.0</td>\n",
       "      <td>0</td>\n",
       "      <td>0</td>\n",
       "      <td>0</td>\n",
       "      <td>250.0</td>\n",
       "      <td>121.0</td>\n",
       "      <td>81.0</td>\n",
       "      <td>28.73</td>\n",
       "      <td>95.0</td>\n",
       "      <td>76.0</td>\n",
       "      <td>0</td>\n",
       "    </tr>\n",
       "    <tr>\n",
       "      <th>2</th>\n",
       "      <td>1</td>\n",
       "      <td>48</td>\n",
       "      <td>1.0</td>\n",
       "      <td>1</td>\n",
       "      <td>20.0</td>\n",
       "      <td>0.0</td>\n",
       "      <td>0</td>\n",
       "      <td>0</td>\n",
       "      <td>0</td>\n",
       "      <td>245.0</td>\n",
       "      <td>127.5</td>\n",
       "      <td>80.0</td>\n",
       "      <td>25.34</td>\n",
       "      <td>75.0</td>\n",
       "      <td>70.0</td>\n",
       "      <td>0</td>\n",
       "    </tr>\n",
       "    <tr>\n",
       "      <th>3</th>\n",
       "      <td>0</td>\n",
       "      <td>61</td>\n",
       "      <td>3.0</td>\n",
       "      <td>1</td>\n",
       "      <td>30.0</td>\n",
       "      <td>0.0</td>\n",
       "      <td>0</td>\n",
       "      <td>1</td>\n",
       "      <td>0</td>\n",
       "      <td>225.0</td>\n",
       "      <td>150.0</td>\n",
       "      <td>95.0</td>\n",
       "      <td>28.58</td>\n",
       "      <td>65.0</td>\n",
       "      <td>103.0</td>\n",
       "      <td>1</td>\n",
       "    </tr>\n",
       "    <tr>\n",
       "      <th>4</th>\n",
       "      <td>0</td>\n",
       "      <td>46</td>\n",
       "      <td>3.0</td>\n",
       "      <td>1</td>\n",
       "      <td>23.0</td>\n",
       "      <td>0.0</td>\n",
       "      <td>0</td>\n",
       "      <td>0</td>\n",
       "      <td>0</td>\n",
       "      <td>285.0</td>\n",
       "      <td>130.0</td>\n",
       "      <td>84.0</td>\n",
       "      <td>23.10</td>\n",
       "      <td>85.0</td>\n",
       "      <td>85.0</td>\n",
       "      <td>0</td>\n",
       "    </tr>\n",
       "  </tbody>\n",
       "</table>\n",
       "</div>"
      ],
      "text/plain": [
       "   male  age  education  currentSmoker  cigsPerDay  BPMeds  prevalentStroke  \\\n",
       "0     1   39        4.0              0         0.0     0.0                0   \n",
       "1     0   46        2.0              0         0.0     0.0                0   \n",
       "2     1   48        1.0              1        20.0     0.0                0   \n",
       "3     0   61        3.0              1        30.0     0.0                0   \n",
       "4     0   46        3.0              1        23.0     0.0                0   \n",
       "\n",
       "   prevalentHyp  diabetes  totChol  sysBP  diaBP    BMI  heartRate  glucose  \\\n",
       "0             0         0    195.0  106.0   70.0  26.97       80.0     77.0   \n",
       "1             0         0    250.0  121.0   81.0  28.73       95.0     76.0   \n",
       "2             0         0    245.0  127.5   80.0  25.34       75.0     70.0   \n",
       "3             1         0    225.0  150.0   95.0  28.58       65.0    103.0   \n",
       "4             0         0    285.0  130.0   84.0  23.10       85.0     85.0   \n",
       "\n",
       "   TenYearCHD  \n",
       "0           0  \n",
       "1           0  \n",
       "2           0  \n",
       "3           1  \n",
       "4           0  "
      ]
     },
     "execution_count": 2,
     "metadata": {},
     "output_type": "execute_result"
    }
   ],
   "source": [
    "# Establish file path and import data\n",
    "path = 'ice_cream_sales.csv'\n",
    "df = pd.read_csv(path)\n",
    "df.head()"
   ]
  },
  {
   "cell_type": "code",
   "execution_count": 4,
   "id": "762f01bb",
   "metadata": {},
   "outputs": [
    {
     "data": {
      "text/html": [
       "<div>\n",
       "<style scoped>\n",
       "    .dataframe tbody tr th:only-of-type {\n",
       "        vertical-align: middle;\n",
       "    }\n",
       "\n",
       "    .dataframe tbody tr th {\n",
       "        vertical-align: top;\n",
       "    }\n",
       "\n",
       "    .dataframe thead th {\n",
       "        text-align: right;\n",
       "    }\n",
       "</style>\n",
       "<table border=\"1\" class=\"dataframe\">\n",
       "  <thead>\n",
       "    <tr style=\"text-align: right;\">\n",
       "      <th></th>\n",
       "      <th>Temperature (°C)</th>\n",
       "      <th>Ice Cream Sales (units)</th>\n",
       "    </tr>\n",
       "  </thead>\n",
       "  <tbody>\n",
       "    <tr>\n",
       "      <th>count</th>\n",
       "      <td>49.000000</td>\n",
       "      <td>49.000000</td>\n",
       "    </tr>\n",
       "    <tr>\n",
       "      <th>mean</th>\n",
       "      <td>0.271755</td>\n",
       "      <td>15.905308</td>\n",
       "    </tr>\n",
       "    <tr>\n",
       "      <th>std</th>\n",
       "      <td>2.697672</td>\n",
       "      <td>12.264682</td>\n",
       "    </tr>\n",
       "    <tr>\n",
       "      <th>min</th>\n",
       "      <td>-4.662263</td>\n",
       "      <td>0.328626</td>\n",
       "    </tr>\n",
       "    <tr>\n",
       "      <th>25%</th>\n",
       "      <td>-2.111870</td>\n",
       "      <td>4.857988</td>\n",
       "    </tr>\n",
       "    <tr>\n",
       "      <th>50%</th>\n",
       "      <td>0.688781</td>\n",
       "      <td>12.615181</td>\n",
       "    </tr>\n",
       "    <tr>\n",
       "      <th>75%</th>\n",
       "      <td>2.784836</td>\n",
       "      <td>25.142082</td>\n",
       "    </tr>\n",
       "    <tr>\n",
       "      <th>max</th>\n",
       "      <td>4.899032</td>\n",
       "      <td>41.842986</td>\n",
       "    </tr>\n",
       "  </tbody>\n",
       "</table>\n",
       "</div>"
      ],
      "text/plain": [
       "       Temperature (°C)  Ice Cream Sales (units)\n",
       "count         49.000000                49.000000\n",
       "mean           0.271755                15.905308\n",
       "std            2.697672                12.264682\n",
       "min           -4.662263                 0.328626\n",
       "25%           -2.111870                 4.857988\n",
       "50%            0.688781                12.615181\n",
       "75%            2.784836                25.142082\n",
       "max            4.899032                41.842986"
      ]
     },
     "execution_count": 4,
     "metadata": {},
     "output_type": "execute_result"
    }
   ],
   "source": [
    "df.describe()"
   ]
  },
  {
   "cell_type": "code",
   "execution_count": null,
   "id": "20b19ed4",
   "metadata": {},
   "outputs": [
    {
     "data": {
      "text/plain": [
       "Text(0, 0.5, 'Ice Cream Sales (units)')"
      ]
     },
     "execution_count": 6,
     "metadata": {},
     "output_type": "execute_result"
    },
    {
     "data": {
      "image/png": "[encoded data removed]",
      "text/plain": [
       "<Figure size 640x480 with 1 Axes>"
      ]
     },
     "metadata": {},
     "output_type": "display_data"
    }
   ],
   "source": [
    "plt.plot(df['Temperature (°C)'],df['Ice Cream Sales (units)'])\n",
    "plt.title('Ice Cream Sales')\n",
    "plt.xlabel('Temperature (°C)')\n",
    "plt.ylabel('Ice Cream Sold (units)')"
   ]
  },
  {
   "cell_type": "code",
   "execution_count": 5,
   "id": "85667c2d",
   "metadata": {},
   "outputs": [],
   "source": [
    "# Relationship looks quadratic, so a polynomial degree of 2\n",
    "X = df['Temperature (°C)'] # Input\n",
    "y = df['Ice Cream Sales (units)'] # Target"
   ]
  },
  {
   "cell_type": "code",
   "execution_count": 40,
   "id": "91e07a69",
   "metadata": {},
   "outputs": [],
   "source": [
    "# Define function to construct b matrix from transforming X in higher dimensions\n",
    "def b(X, p):\n",
    "    n = len(X)\n",
    "    # b = np.zeros((n, p + 1)) # Initialize b matrix\n",
    "    for j in range(n): # Index over rows (samples)\n",
    "        for i in range(p): # Index over columns (degree)\n",
    "            b[j,i] = X[j]**i # Generate a row of features for each sample\n",
    "    return b"
   ]
  },
  {
   "cell_type": "code",
   "execution_count": 21,
   "id": "35c9dcc9",
   "metadata": {},
   "outputs": [],
   "source": [
    "def nonlinear_model(X,y,W,b, alpha = 0.001, n_iterations=1000):\n",
    "    N = len(X)\n",
    "    loss_history = [] # Initialize loss history\n",
    "    for i in range(n_iterations):\n",
    "        # y_hat = np.dot(b.T, W)\n",
    "        y_hat = b @ W # Prediction equation\n",
    "        resid = y_hat - y # Error\n",
    "        grad = (2/N) * (b.T @ resid) # Gradient descent\n",
    "        W -= alpha * grad # Update weights\n",
    "        mse = np.mean(resid ** 2) # Calculate loss\n",
    "        loss_history.append(mse)\n",
    "\n",
    "        if i % 100 == 0:\n",
    "            print(f\"Iteration {i}: Loss = {mse:.4f}\")\n",
    "    return W, loss_history"
   ]
  },
  {
   "cell_type": "code",
   "execution_count": null,
   "id": "5b473069",
   "metadata": {},
   "outputs": [
    {
     "name": "stdout",
     "output_type": "stream",
     "text": [
      "Iteration 0: Loss = 400.3314\n",
      "Iteration 100: Loss = 13.1364\n",
      "Iteration 200: Loss = 12.4252\n",
      "Iteration 300: Loss = 12.0310\n",
      "Iteration 400: Loss = 11.7105\n",
      "Iteration 500: Loss = 11.4411\n",
      "Iteration 600: Loss = 11.2143\n",
      "Iteration 700: Loss = 11.0233\n",
      "Iteration 800: Loss = 10.8624\n",
      "Iteration 900: Loss = 10.7268\n"
     ]
    }
   ],
   "source": [
    "# Choose zeroes as W\n",
    "degree = 3\n",
    "W = np.zeros(degree + 1)\n",
    "B = b(X,degree)\n",
    "W, loss_history = nonlinear_model(X,y,W,B)"
   ]
  },
  {
   "cell_type": "code",
   "execution_count": 28,
   "id": "79e085d9",
   "metadata": {},
   "outputs": [
    {
     "data": {
      "image/png": "[encoded data removed]",
      "text/plain": [
       "<Figure size 640x480 with 1 Axes>"
      ]
     },
     "metadata": {},
     "output_type": "display_data"
    }
   ],
   "source": [
    "# Graph prediction\n",
    "X_sorted = np.sort(X) # Put the x values in order\n",
    "B_sorted = b(X_sorted, degree) # Build polynomial features for sorted points\n",
    "y_pred = B_sorted @ W # Compute predictions for the line, based on model's parameters\n",
    "\n",
    "\n",
    "plt.scatter(X, y, label=\"Data\")  # Original scatterplot\n",
    "plt.plot(X_sorted, y_pred, color=\"red\", label=\"Fitted polynomial\")  # Fitted curve\n",
    "plt.xlabel(\"Temperature\")\n",
    "plt.ylabel(\"Ice Cream Sales\")\n",
    "plt.legend()\n",
    "plt.show()\n"
   ]
  },
  {
   "cell_type": "code",
   "execution_count": null,
   "id": "1c5a62b8",
   "metadata": {},
   "outputs": [
    {
     "name": "stdout",
     "output_type": "stream",
     "text": [
      "Iteration 0: Loss = 399.5587\n",
      "Iteration 100: Loss = 13.1402\n",
      "Iteration 200: Loss = 12.4310\n",
      "Iteration 300: Loss = 12.0360\n",
      "Iteration 400: Loss = 11.7147\n",
      "Iteration 500: Loss = 11.4447\n",
      "Iteration 600: Loss = 11.2173\n",
      "Iteration 700: Loss = 11.0258\n",
      "Iteration 800: Loss = 10.8645\n",
      "Iteration 900: Loss = 10.7286\n"
     ]
    }
   ],
   "source": [
    "# Try with random W initialization\n",
    "W = np.random.randn(degree + 1) * 0.01 # Small normally distributed random numbers\n",
    "W, loss_history = nonlinear_model(X,y,W,B)\n",
    "\n",
    "# Similar loss as initializing with zeroes"
   ]
  },
  {
   "cell_type": "markdown",
   "id": "dcbcfed1",
   "metadata": {},
   "source": [
    "## Learnable Feature Transformations"
   ]
  },
  {
   "cell_type": "markdown",
   "id": "8bec1f05",
   "metadata": {},
   "source": [
    "In the case of classic polynomial regression, the degree is fixed and exponents are known. Only w parameters are learned.  \n",
    "For a learnable-exponent model, on the other hand, while the degree (or number of terms) is still fixed, the exponents (v1, v2, v3, etc.) are learned. This means that v can be fractional, non-integer, negative, etc."
   ]
  },
  {
   "cell_type": "code",
   "execution_count": null,
   "id": "2cbaa75b",
   "metadata": {},
   "outputs": [],
   "source": [
    "def b(X, v):\n",
    "    n = len(X) # Number of samples\n",
    "    p = len(v) # Degree of polynomial\n",
    "    b = np.zeros((n, p + 1)) # Initialize b matrix\n",
    "    b[:, 0] = 1  # Constant term (bias w0)\n",
    "    for i in range(p):\n",
    "        b[:, i+1] = X ** v[i]\n",
    "    return b\n",
    "\n",
    "def model_features(X,y,theta,b, alpha = 0.001, n_iterations=1000):\n",
    "    N = len(X)\n",
    "    p = (len(theta) - 1) // 2\n",
    "    loss_history = [] # Initialize loss history\n",
    "\n",
    "    for i in range(n_iterations):\n",
    "        # Separate w and v from theta vector\n",
    "        w = theta[:p+1]   # First p+1 params are w_i\n",
    "        v = theta[p+1:]   # Remaining p params are v_i\n",
    "\n",
    "        # Build b matrix dynamically based on current v\n",
    "        b = np.zeros((N, p+1))\n",
    "        b[:, 0] = 1\n",
    "        for j in range(p):\n",
    "            b[:, j+1] = X ** v[j]\n",
    "\n",
    "        y_hat = b @ W # Prediction equation\n",
    "        resid = y_hat - y # Error\n",
    "\n",
    "        # Gradient descent\n",
    "        grad_w = (2/N) * (b.T @ resid)\n",
    "        grad_v = np.zeros(p) # Gradient w.r.t v\n",
    "        for j in range(p):\n",
    "            term = (X ** v[j]) * np.log(X)\n",
    "            grad_v[j] = (2/N) * np.sum(resid * w[j+1] * term)\n",
    "\n",
    "        # Combine gradients into one theta gradient\n",
    "        grad = np.concatenate([grad_w, grad_v])\n",
    "\n",
    "        mse = np.mean(resid ** 2) # Calculate loss\n",
    "        loss_history.append(mse)\n",
    "        if i % 100 == 0:\n",
    "            print(f\"Iteration {i}: Loss = {mse:.4f}\")\n",
    "    return theta, loss_history"
   ]
  },
  {
   "cell_type": "code",
   "execution_count": null,
   "id": "68125b91",
   "metadata": {},
   "outputs": [
    {
     "name": "stdout",
     "output_type": "stream",
     "text": [
      "Iteration 0: Loss = 10.6127\n",
      "Iteration 100: Loss = 10.6127\n",
      "Iteration 200: Loss = 10.6127\n",
      "Iteration 300: Loss = 10.6127\n",
      "Iteration 400: Loss = 10.6127\n",
      "Iteration 500: Loss = 10.6127\n",
      "Iteration 600: Loss = 10.6127\n",
      "Iteration 700: Loss = 10.6127\n",
      "Iteration 800: Loss = 10.6127\n",
      "Iteration 900: Loss = 10.6127\n"
     ]
    }
   ],
   "source": [
    "p = 3  # Allow up to cubic powers\n",
    "w_init = np.zeros(p+1)  # Start weights at 0 or small random values\n",
    "v_init = np.arange(1, p+1)  # Initialize exponents to 1, 2, 3\n",
    "\n",
    "theta_init = np.concatenate([w_init, v_init])\n",
    "B = b(X,v_init)\n",
    "theta_trained, loss_history = model_features(X, y, theta_init, B)\n",
    "\n",
    "# This approach resulted in a slightly better peformance according to the loss function"
   ]
  }
 ],
 "metadata": {
  "kernelspec": {
   "display_name": "base",
   "language": "python",
   "name": "python3"
  },
  "language_info": {
   "codemirror_mode": {
    "name": "ipython",
    "version": 3
   },
   "file_extension": ".py",
   "mimetype": "text/x-python",
   "name": "python",
   "nbconvert_exporter": "python",
   "pygments_lexer": "ipython3",
   "version": "3.12.7"
  }
 },
 "nbformat": 4,
 "nbformat_minor": 5
}
