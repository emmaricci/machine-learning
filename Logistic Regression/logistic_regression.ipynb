{
 "cells": [
  {
   "cell_type": "markdown",
   "id": "3f30a4da",
   "metadata": {},
   "source": [
    "# Logistic Regression Predictor – Heart Disease"
   ]
  },
  {
   "cell_type": "markdown",
   "id": "dee068ab",
   "metadata": {},
   "source": [
    "### Project Description:\n",
    "This project explores the application of logistic regression for predicting the 10-year risk of coronary heart disease (CHD) using the publicly available Framingham Heart Study dataset. Through implementation of both custom gradient descent and scikit-learn’s logistic regression models, this project aims to compare performance across regularized and non-regularized models. The analysis includes model training, testing, evaluation, and exploration of performance challenges.\n",
    "\n",
    "### Objectives:\n",
    "* Implement logistic regression from scratch using gradient descent, including both standard and L2-regularized versions.\n",
    "* Evaluate and compare model performance using log loss, confusion matrix, and classification metrics (precision, recall, f1-score).\n",
    "* Use scikit-learn’s LogisticRegression to benchmark results and observe convergence behaviors.\n",
    "* Analyze the effect of class imbalance on model performance, particularly on recall for the minority class.\n",
    "\n",
    "### Public dataset source:\n",
    "[Kaggle Heart Disease Prediction Data Set](https://www.kaggle.com/datasets/dileep070/heart-disease-prediction-using-logistic-regression)\n",
    "The dataset is publically available on the Kaggle website, and it is from an ongoing cardiovascular study on residents of the town of Framingham, Massachusetts. The classification goal is to predict whether the patient has 10-year risk of future coronary heart disease (CHD). The dataset provides the patients’ information. It includes over 4,000 records and 15 attributes."
   ]
  },
  {
   "cell_type": "code",
   "execution_count": 137,
   "id": "19a662aa",
   "metadata": {},
   "outputs": [],
   "source": [
    "# Import libraries\n",
    "import pandas as pd\n",
    "# import numpy as np\n",
    "import autograd.numpy as np\n",
    "import matplotlib.pyplot as plt\n",
    "import seaborn as sns\n",
    "import autograd\n",
    "from autograd import grad\n",
    "from sklearn.model_selection import train_test_split\n",
    "from sklearn.linear_model import LogisticRegression\n",
    "from sklearn.metrics import log_loss, confusion_matrix, classification_report"
   ]
  },
  {
   "cell_type": "code",
   "execution_count": 11,
   "id": "79dd1b1f",
   "metadata": {},
   "outputs": [
    {
     "data": {
      "text/html": [
       "<div>\n",
       "<style scoped>\n",
       "    .dataframe tbody tr th:only-of-type {\n",
       "        vertical-align: middle;\n",
       "    }\n",
       "\n",
       "    .dataframe tbody tr th {\n",
       "        vertical-align: top;\n",
       "    }\n",
       "\n",
       "    .dataframe thead th {\n",
       "        text-align: right;\n",
       "    }\n",
       "</style>\n",
       "<table border=\"1\" class=\"dataframe\">\n",
       "  <thead>\n",
       "    <tr style=\"text-align: right;\">\n",
       "      <th></th>\n",
       "      <th>male</th>\n",
       "      <th>age</th>\n",
       "      <th>education</th>\n",
       "      <th>currentSmoker</th>\n",
       "      <th>cigsPerDay</th>\n",
       "      <th>BPMeds</th>\n",
       "      <th>prevalentStroke</th>\n",
       "      <th>prevalentHyp</th>\n",
       "      <th>diabetes</th>\n",
       "      <th>totChol</th>\n",
       "      <th>sysBP</th>\n",
       "      <th>diaBP</th>\n",
       "      <th>BMI</th>\n",
       "      <th>heartRate</th>\n",
       "      <th>glucose</th>\n",
       "      <th>TenYearCHD</th>\n",
       "    </tr>\n",
       "  </thead>\n",
       "  <tbody>\n",
       "    <tr>\n",
       "      <th>0</th>\n",
       "      <td>1</td>\n",
       "      <td>39</td>\n",
       "      <td>4.0</td>\n",
       "      <td>0</td>\n",
       "      <td>0.0</td>\n",
       "      <td>0.0</td>\n",
       "      <td>0</td>\n",
       "      <td>0</td>\n",
       "      <td>0</td>\n",
       "      <td>195.0</td>\n",
       "      <td>106.0</td>\n",
       "      <td>70.0</td>\n",
       "      <td>26.97</td>\n",
       "      <td>80.0</td>\n",
       "      <td>77.0</td>\n",
       "      <td>0</td>\n",
       "    </tr>\n",
       "    <tr>\n",
       "      <th>1</th>\n",
       "      <td>0</td>\n",
       "      <td>46</td>\n",
       "      <td>2.0</td>\n",
       "      <td>0</td>\n",
       "      <td>0.0</td>\n",
       "      <td>0.0</td>\n",
       "      <td>0</td>\n",
       "      <td>0</td>\n",
       "      <td>0</td>\n",
       "      <td>250.0</td>\n",
       "      <td>121.0</td>\n",
       "      <td>81.0</td>\n",
       "      <td>28.73</td>\n",
       "      <td>95.0</td>\n",
       "      <td>76.0</td>\n",
       "      <td>0</td>\n",
       "    </tr>\n",
       "    <tr>\n",
       "      <th>2</th>\n",
       "      <td>1</td>\n",
       "      <td>48</td>\n",
       "      <td>1.0</td>\n",
       "      <td>1</td>\n",
       "      <td>20.0</td>\n",
       "      <td>0.0</td>\n",
       "      <td>0</td>\n",
       "      <td>0</td>\n",
       "      <td>0</td>\n",
       "      <td>245.0</td>\n",
       "      <td>127.5</td>\n",
       "      <td>80.0</td>\n",
       "      <td>25.34</td>\n",
       "      <td>75.0</td>\n",
       "      <td>70.0</td>\n",
       "      <td>0</td>\n",
       "    </tr>\n",
       "    <tr>\n",
       "      <th>3</th>\n",
       "      <td>0</td>\n",
       "      <td>61</td>\n",
       "      <td>3.0</td>\n",
       "      <td>1</td>\n",
       "      <td>30.0</td>\n",
       "      <td>0.0</td>\n",
       "      <td>0</td>\n",
       "      <td>1</td>\n",
       "      <td>0</td>\n",
       "      <td>225.0</td>\n",
       "      <td>150.0</td>\n",
       "      <td>95.0</td>\n",
       "      <td>28.58</td>\n",
       "      <td>65.0</td>\n",
       "      <td>103.0</td>\n",
       "      <td>1</td>\n",
       "    </tr>\n",
       "    <tr>\n",
       "      <th>4</th>\n",
       "      <td>0</td>\n",
       "      <td>46</td>\n",
       "      <td>3.0</td>\n",
       "      <td>1</td>\n",
       "      <td>23.0</td>\n",
       "      <td>0.0</td>\n",
       "      <td>0</td>\n",
       "      <td>0</td>\n",
       "      <td>0</td>\n",
       "      <td>285.0</td>\n",
       "      <td>130.0</td>\n",
       "      <td>84.0</td>\n",
       "      <td>23.10</td>\n",
       "      <td>85.0</td>\n",
       "      <td>85.0</td>\n",
       "      <td>0</td>\n",
       "    </tr>\n",
       "  </tbody>\n",
       "</table>\n",
       "</div>"
      ],
      "text/plain": [
       "   male  age  education  currentSmoker  cigsPerDay  BPMeds  prevalentStroke  \\\n",
       "0     1   39        4.0              0         0.0     0.0                0   \n",
       "1     0   46        2.0              0         0.0     0.0                0   \n",
       "2     1   48        1.0              1        20.0     0.0                0   \n",
       "3     0   61        3.0              1        30.0     0.0                0   \n",
       "4     0   46        3.0              1        23.0     0.0                0   \n",
       "\n",
       "   prevalentHyp  diabetes  totChol  sysBP  diaBP    BMI  heartRate  glucose  \\\n",
       "0             0         0    195.0  106.0   70.0  26.97       80.0     77.0   \n",
       "1             0         0    250.0  121.0   81.0  28.73       95.0     76.0   \n",
       "2             0         0    245.0  127.5   80.0  25.34       75.0     70.0   \n",
       "3             1         0    225.0  150.0   95.0  28.58       65.0    103.0   \n",
       "4             0         0    285.0  130.0   84.0  23.10       85.0     85.0   \n",
       "\n",
       "   TenYearCHD  \n",
       "0           0  \n",
       "1           0  \n",
       "2           0  \n",
       "3           1  \n",
       "4           0  "
      ]
     },
     "execution_count": 11,
     "metadata": {},
     "output_type": "execute_result"
    }
   ],
   "source": [
    "# Establish file path and import data\n",
    "path = 'heart_disease_prediction_data.csv'\n",
    "df = pd.read_csv(path)\n",
    "df.head()"
   ]
  },
  {
   "cell_type": "code",
   "execution_count": 12,
   "id": "c915727b",
   "metadata": {},
   "outputs": [
    {
     "data": {
      "text/html": [
       "<div>\n",
       "<style scoped>\n",
       "    .dataframe tbody tr th:only-of-type {\n",
       "        vertical-align: middle;\n",
       "    }\n",
       "\n",
       "    .dataframe tbody tr th {\n",
       "        vertical-align: top;\n",
       "    }\n",
       "\n",
       "    .dataframe thead th {\n",
       "        text-align: right;\n",
       "    }\n",
       "</style>\n",
       "<table border=\"1\" class=\"dataframe\">\n",
       "  <thead>\n",
       "    <tr style=\"text-align: right;\">\n",
       "      <th></th>\n",
       "      <th>male</th>\n",
       "      <th>age</th>\n",
       "      <th>education</th>\n",
       "      <th>currentSmoker</th>\n",
       "      <th>cigsPerDay</th>\n",
       "      <th>BPMeds</th>\n",
       "      <th>prevalentStroke</th>\n",
       "      <th>prevalentHyp</th>\n",
       "      <th>diabetes</th>\n",
       "      <th>totChol</th>\n",
       "      <th>sysBP</th>\n",
       "      <th>diaBP</th>\n",
       "      <th>BMI</th>\n",
       "      <th>heartRate</th>\n",
       "      <th>glucose</th>\n",
       "      <th>TenYearCHD</th>\n",
       "    </tr>\n",
       "  </thead>\n",
       "  <tbody>\n",
       "    <tr>\n",
       "      <th>count</th>\n",
       "      <td>4238.000000</td>\n",
       "      <td>4238.000000</td>\n",
       "      <td>4133.000000</td>\n",
       "      <td>4238.000000</td>\n",
       "      <td>4209.000000</td>\n",
       "      <td>4185.000000</td>\n",
       "      <td>4238.000000</td>\n",
       "      <td>4238.000000</td>\n",
       "      <td>4238.000000</td>\n",
       "      <td>4188.000000</td>\n",
       "      <td>4238.000000</td>\n",
       "      <td>4238.000000</td>\n",
       "      <td>4219.000000</td>\n",
       "      <td>4237.000000</td>\n",
       "      <td>3850.000000</td>\n",
       "      <td>4238.000000</td>\n",
       "    </tr>\n",
       "    <tr>\n",
       "      <th>mean</th>\n",
       "      <td>0.429212</td>\n",
       "      <td>49.584946</td>\n",
       "      <td>1.978950</td>\n",
       "      <td>0.494101</td>\n",
       "      <td>9.003089</td>\n",
       "      <td>0.029630</td>\n",
       "      <td>0.005899</td>\n",
       "      <td>0.310524</td>\n",
       "      <td>0.025720</td>\n",
       "      <td>236.721585</td>\n",
       "      <td>132.352407</td>\n",
       "      <td>82.893464</td>\n",
       "      <td>25.802008</td>\n",
       "      <td>75.878924</td>\n",
       "      <td>81.966753</td>\n",
       "      <td>0.151958</td>\n",
       "    </tr>\n",
       "    <tr>\n",
       "      <th>std</th>\n",
       "      <td>0.495022</td>\n",
       "      <td>8.572160</td>\n",
       "      <td>1.019791</td>\n",
       "      <td>0.500024</td>\n",
       "      <td>11.920094</td>\n",
       "      <td>0.169584</td>\n",
       "      <td>0.076587</td>\n",
       "      <td>0.462763</td>\n",
       "      <td>0.158316</td>\n",
       "      <td>44.590334</td>\n",
       "      <td>22.038097</td>\n",
       "      <td>11.910850</td>\n",
       "      <td>4.080111</td>\n",
       "      <td>12.026596</td>\n",
       "      <td>23.959998</td>\n",
       "      <td>0.359023</td>\n",
       "    </tr>\n",
       "    <tr>\n",
       "      <th>min</th>\n",
       "      <td>0.000000</td>\n",
       "      <td>32.000000</td>\n",
       "      <td>1.000000</td>\n",
       "      <td>0.000000</td>\n",
       "      <td>0.000000</td>\n",
       "      <td>0.000000</td>\n",
       "      <td>0.000000</td>\n",
       "      <td>0.000000</td>\n",
       "      <td>0.000000</td>\n",
       "      <td>107.000000</td>\n",
       "      <td>83.500000</td>\n",
       "      <td>48.000000</td>\n",
       "      <td>15.540000</td>\n",
       "      <td>44.000000</td>\n",
       "      <td>40.000000</td>\n",
       "      <td>0.000000</td>\n",
       "    </tr>\n",
       "    <tr>\n",
       "      <th>25%</th>\n",
       "      <td>0.000000</td>\n",
       "      <td>42.000000</td>\n",
       "      <td>1.000000</td>\n",
       "      <td>0.000000</td>\n",
       "      <td>0.000000</td>\n",
       "      <td>0.000000</td>\n",
       "      <td>0.000000</td>\n",
       "      <td>0.000000</td>\n",
       "      <td>0.000000</td>\n",
       "      <td>206.000000</td>\n",
       "      <td>117.000000</td>\n",
       "      <td>75.000000</td>\n",
       "      <td>23.070000</td>\n",
       "      <td>68.000000</td>\n",
       "      <td>71.000000</td>\n",
       "      <td>0.000000</td>\n",
       "    </tr>\n",
       "    <tr>\n",
       "      <th>50%</th>\n",
       "      <td>0.000000</td>\n",
       "      <td>49.000000</td>\n",
       "      <td>2.000000</td>\n",
       "      <td>0.000000</td>\n",
       "      <td>0.000000</td>\n",
       "      <td>0.000000</td>\n",
       "      <td>0.000000</td>\n",
       "      <td>0.000000</td>\n",
       "      <td>0.000000</td>\n",
       "      <td>234.000000</td>\n",
       "      <td>128.000000</td>\n",
       "      <td>82.000000</td>\n",
       "      <td>25.400000</td>\n",
       "      <td>75.000000</td>\n",
       "      <td>78.000000</td>\n",
       "      <td>0.000000</td>\n",
       "    </tr>\n",
       "    <tr>\n",
       "      <th>75%</th>\n",
       "      <td>1.000000</td>\n",
       "      <td>56.000000</td>\n",
       "      <td>3.000000</td>\n",
       "      <td>1.000000</td>\n",
       "      <td>20.000000</td>\n",
       "      <td>0.000000</td>\n",
       "      <td>0.000000</td>\n",
       "      <td>1.000000</td>\n",
       "      <td>0.000000</td>\n",
       "      <td>263.000000</td>\n",
       "      <td>144.000000</td>\n",
       "      <td>89.875000</td>\n",
       "      <td>28.040000</td>\n",
       "      <td>83.000000</td>\n",
       "      <td>87.000000</td>\n",
       "      <td>0.000000</td>\n",
       "    </tr>\n",
       "    <tr>\n",
       "      <th>max</th>\n",
       "      <td>1.000000</td>\n",
       "      <td>70.000000</td>\n",
       "      <td>4.000000</td>\n",
       "      <td>1.000000</td>\n",
       "      <td>70.000000</td>\n",
       "      <td>1.000000</td>\n",
       "      <td>1.000000</td>\n",
       "      <td>1.000000</td>\n",
       "      <td>1.000000</td>\n",
       "      <td>696.000000</td>\n",
       "      <td>295.000000</td>\n",
       "      <td>142.500000</td>\n",
       "      <td>56.800000</td>\n",
       "      <td>143.000000</td>\n",
       "      <td>394.000000</td>\n",
       "      <td>1.000000</td>\n",
       "    </tr>\n",
       "  </tbody>\n",
       "</table>\n",
       "</div>"
      ],
      "text/plain": [
       "              male          age    education  currentSmoker   cigsPerDay  \\\n",
       "count  4238.000000  4238.000000  4133.000000    4238.000000  4209.000000   \n",
       "mean      0.429212    49.584946     1.978950       0.494101     9.003089   \n",
       "std       0.495022     8.572160     1.019791       0.500024    11.920094   \n",
       "min       0.000000    32.000000     1.000000       0.000000     0.000000   \n",
       "25%       0.000000    42.000000     1.000000       0.000000     0.000000   \n",
       "50%       0.000000    49.000000     2.000000       0.000000     0.000000   \n",
       "75%       1.000000    56.000000     3.000000       1.000000    20.000000   \n",
       "max       1.000000    70.000000     4.000000       1.000000    70.000000   \n",
       "\n",
       "            BPMeds  prevalentStroke  prevalentHyp     diabetes      totChol  \\\n",
       "count  4185.000000      4238.000000   4238.000000  4238.000000  4188.000000   \n",
       "mean      0.029630         0.005899      0.310524     0.025720   236.721585   \n",
       "std       0.169584         0.076587      0.462763     0.158316    44.590334   \n",
       "min       0.000000         0.000000      0.000000     0.000000   107.000000   \n",
       "25%       0.000000         0.000000      0.000000     0.000000   206.000000   \n",
       "50%       0.000000         0.000000      0.000000     0.000000   234.000000   \n",
       "75%       0.000000         0.000000      1.000000     0.000000   263.000000   \n",
       "max       1.000000         1.000000      1.000000     1.000000   696.000000   \n",
       "\n",
       "             sysBP        diaBP          BMI    heartRate      glucose  \\\n",
       "count  4238.000000  4238.000000  4219.000000  4237.000000  3850.000000   \n",
       "mean    132.352407    82.893464    25.802008    75.878924    81.966753   \n",
       "std      22.038097    11.910850     4.080111    12.026596    23.959998   \n",
       "min      83.500000    48.000000    15.540000    44.000000    40.000000   \n",
       "25%     117.000000    75.000000    23.070000    68.000000    71.000000   \n",
       "50%     128.000000    82.000000    25.400000    75.000000    78.000000   \n",
       "75%     144.000000    89.875000    28.040000    83.000000    87.000000   \n",
       "max     295.000000   142.500000    56.800000   143.000000   394.000000   \n",
       "\n",
       "        TenYearCHD  \n",
       "count  4238.000000  \n",
       "mean      0.151958  \n",
       "std       0.359023  \n",
       "min       0.000000  \n",
       "25%       0.000000  \n",
       "50%       0.000000  \n",
       "75%       0.000000  \n",
       "max       1.000000  "
      ]
     },
     "execution_count": 12,
     "metadata": {},
     "output_type": "execute_result"
    }
   ],
   "source": [
    "df.describe()"
   ]
  },
  {
   "cell_type": "code",
   "execution_count": 94,
   "id": "11d6dc4b",
   "metadata": {},
   "outputs": [],
   "source": [
    "def logistic_model(X,y_true,alpha,max_its):\n",
    "    # Initialize weights\n",
    "    n_samples, n_features = X.shape\n",
    "    w = np.zeros(n_features)\n",
    "    b = 0.0\n",
    "    cost_history = []\n",
    "\n",
    "    for k in range(max_its):\n",
    "        # Computer linear combination\n",
    "        # Equivalent to X^T dot W\n",
    "        z = X @ w + b\n",
    "        #Clip z to prevent overflow in exp\n",
    "        # z = np.clip(z, -500, 500)\n",
    "        # Apply the sigmoid function to get prediction\n",
    "        y_pred = 1 / (1 + np.exp(-z))\n",
    "        \n",
    "        # Clip for numerical stability\n",
    "        epsilon = 1e-10\n",
    "        y_pred = np.clip(y_pred, epsilon, 1 - epsilon) \n",
    "        \n",
    "        # Compute loss\n",
    "        log_loss = -np.mean(y_true * np.log(y_pred) + (1 - y_true) * np.log(1 - y_pred))\n",
    "\n",
    "        # Gradient descent\n",
    "        grad_w = (X.T @ (y_pred - y_true)) / n_samples\n",
    "        grad_b = np.sum(y_pred - y_true) / n_samples\n",
    "\n",
    "        # Update parameters\n",
    "        w -= alpha * grad_w\n",
    "        b -= alpha * grad_b\n",
    "\n",
    "        # Recompute loss\n",
    "        cost_history.append(log_loss)\n",
    "\n",
    "        # Print every 100 iterations\n",
    "        if k % 100 == 0:\n",
    "            print(f\"Iteration {k}: log loss = {log_loss:.4f}\")\n",
    "    return cost_history, w, b\n",
    "    "
   ]
  },
  {
   "cell_type": "code",
   "execution_count": null,
   "id": "c4f226c1",
   "metadata": {},
   "outputs": [],
   "source": [
    "# Assign features and target\n",
    "cols = ['age','education','currentSmoker','cigsPerDay','BPMeds','prevalentStroke','prevalentHyp','diabetes','totChol','sysBP','diaBP','BMI','heartRate','glucose'] \n",
    "X = df[cols].values\n",
    "X = np.nan_to_num(X, nan=0.0, posinf=1e6, neginf=-1e6) # There are Nan values in X\n",
    "y = df['TenYearCHD'].values # 10 year risk of coronary heart disease CHD\n",
    "\n",
    "# Split the data into training and testing sets\n",
    "X_train, X_test, y_train, y_test = train_test_split(X, y, test_size=0.3, random_state=42)"
   ]
  },
  {
   "cell_type": "code",
   "execution_count": 102,
   "id": "db59f3c9",
   "metadata": {},
   "outputs": [
    {
     "name": "stdout",
     "output_type": "stream",
     "text": [
      "Iteration 0: log loss = 0.6931\n",
      "Iteration 100: log loss = 0.4344\n",
      "Iteration 200: log loss = 0.4291\n",
      "Iteration 300: log loss = 0.4254\n",
      "Iteration 400: log loss = 0.4229\n",
      "Iteration 500: log loss = 0.4210\n",
      "Iteration 600: log loss = 0.4196\n",
      "Iteration 700: log loss = 0.4185\n",
      "Iteration 800: log loss = 0.4177\n",
      "Iteration 900: log loss = 0.4170\n",
      "Learned weights: [ 0.01299961 -0.00288027 -0.00032512  0.01063011  0.00043393  0.00014152\n",
      "  0.00235764  0.00033767 -0.0039659   0.01624741 -0.01501058 -0.01797544\n",
      " -0.03121035  0.00527281]\n",
      "Intercept (b): -0.0009814646746594351\n"
     ]
    }
   ],
   "source": [
    "# Run the model\n",
    "cost_history, w, b = logistic_model(X_train, y_train, alpha=0.0001, max_its=1000)\n",
    "\n",
    "print(\"Learned weights:\", w)\n",
    "print(\"Intercept (b):\", b)"
   ]
  },
  {
   "cell_type": "code",
   "execution_count": 105,
   "id": "b827ecb2",
   "metadata": {},
   "outputs": [
    {
     "data": {
      "image/png": "[encoded data removed]",
      "text/plain": [
       "<Figure size 640x480 with 1 Axes>"
      ]
     },
     "metadata": {},
     "output_type": "display_data"
    }
   ],
   "source": [
    "plt.plot(cost_history)\n",
    "plt.xlabel(\"Iteration\")\n",
    "plt.ylabel(\"Log Loss\")\n",
    "plt.title(\"Training Loss Curve\")\n",
    "plt.show()"
   ]
  },
  {
   "cell_type": "code",
   "execution_count": 100,
   "id": "a352d7b4",
   "metadata": {},
   "outputs": [],
   "source": [
    "def logit_predict(X,y_true,w,b):\n",
    "    z = X @ w + b\n",
    "    y_pred = 1 / (1 + np.exp(-z))\n",
    "    log_loss = -np.mean(y_true * np.log(y_pred) + (1 - y_true) * np.log(1 - y_pred))\n",
    "    return log_loss"
   ]
  },
  {
   "cell_type": "code",
   "execution_count": 103,
   "id": "534e50c7",
   "metadata": {},
   "outputs": [
    {
     "name": "stdout",
     "output_type": "stream",
     "text": [
      "Test loss: 0.4158411852148352\n"
     ]
    }
   ],
   "source": [
    "test_loss = logit_predict(X_test, y_test, w , b)\n",
    "\n",
    "print(\"Test loss:\", test_loss)"
   ]
  },
  {
   "cell_type": "markdown",
   "id": "e25d2c93",
   "metadata": {},
   "source": [
    "The training loss over time smoothly decreases with no erratic jumps and approaches a typical value for a decent classifier. The test loss is better than random and close to the training loss, which, for a simple logistic regression model without regularization, is a good baseline.\n",
    "\n",
    "Training a model on an imbalanced dataset (classe) might cause it to favor the majority and be wrong in the minority, leading to a higher loss."
   ]
  },
  {
   "cell_type": "code",
   "execution_count": null,
   "id": "afc684ca",
   "metadata": {},
   "outputs": [
    {
     "data": {
      "text/plain": [
       "(array([0, 1]), array([2510,  456]))"
      ]
     },
     "execution_count": 104,
     "metadata": {},
     "output_type": "execute_result"
    }
   ],
   "source": [
    "np.unique(y_train, return_counts=True)"
   ]
  },
  {
   "cell_type": "markdown",
   "id": "ca0dc041",
   "metadata": {},
   "source": [
    "## L2 Regularization"
   ]
  },
  {
   "cell_type": "markdown",
   "id": "46f3f08f",
   "metadata": {},
   "source": [
    "L2 regularization (aka Ridge penalty) helps to prevent overfitting by penalizing large weights."
   ]
  },
  {
   "cell_type": "code",
   "execution_count": 113,
   "id": "514c942f",
   "metadata": {},
   "outputs": [],
   "source": [
    "def L2_logistic_model(X, y_true, alpha=0.01, max_its=1000, reg_lambda=0.1):\n",
    "    n_samples, n_features = X.shape\n",
    "    # w = np.zeros(n_features)\n",
    "    w = np.random.normal(0, 0.01, size=n_features)\n",
    "    b = 0.0\n",
    "    cost_history = []\n",
    "    \n",
    "    for k in range(max_its):\n",
    "        z = X @ w + b\n",
    "        y_pred = 1 / (1 + np.exp(-z))\n",
    "        y_pred = np.clip(y_pred, 1e-10, 1 - 1e-10)\n",
    "\n",
    "        # L2-regularized loss\n",
    "        log_loss = -np.mean(y_true * np.log(y_pred) + (1 - y_true) * np.log(1 - y_pred))\n",
    "        l2_penalty = (reg_lambda / (2 * n_samples)) * np.sum(w ** 2)\n",
    "        total_loss = log_loss + l2_penalty\n",
    "\n",
    "        # Gradient with L2\n",
    "        grad_w = (X.T @ (y_pred - y_true)) / n_samples + (reg_lambda / n_samples) * w\n",
    "        grad_b = np.sum(y_pred - y_true) / n_samples\n",
    "\n",
    "        w -= alpha * grad_w\n",
    "        b -= alpha * grad_b\n",
    "\n",
    "        cost_history.append(total_loss)\n",
    "\n",
    "        if k % 100 == 0:\n",
    "            print(f\"Iteration {k}: total loss = {total_loss:.4f}\")\n",
    "    return cost_history, w, b\n"
   ]
  },
  {
   "cell_type": "code",
   "execution_count": 115,
   "id": "64d73ff4",
   "metadata": {},
   "outputs": [
    {
     "name": "stdout",
     "output_type": "stream",
     "text": [
      "Iteration 0: total loss = 0.6813\n",
      "Iteration 100: total loss = 0.4416\n",
      "Iteration 200: total loss = 0.4350\n",
      "Iteration 300: total loss = 0.4306\n",
      "Iteration 400: total loss = 0.4272\n",
      "Iteration 500: total loss = 0.4247\n",
      "Iteration 600: total loss = 0.4227\n",
      "Iteration 700: total loss = 0.4211\n",
      "Iteration 800: total loss = 0.4198\n",
      "Iteration 900: total loss = 0.4188\n",
      "Learned weights: [ 0.00573789 -0.00780144 -0.00715728  0.00818497 -0.00283553 -0.0033222\n",
      "  0.00508599  0.00311879 -0.00370077  0.01675258 -0.01352605 -0.01552556\n",
      " -0.03011105  0.00530281]\n",
      "Intercept (b): -0.0009019435868228638\n"
     ]
    }
   ],
   "source": [
    "cost_history, w, b = L2_logistic_model(X_train, y_train, alpha=0.0001, max_its=1000)\n",
    "\n",
    "print(\"Learned weights:\", w)\n",
    "print(\"Intercept (b):\", b)"
   ]
  },
  {
   "cell_type": "code",
   "execution_count": 120,
   "id": "9f97768c",
   "metadata": {},
   "outputs": [],
   "source": [
    "def L2_logit_predict(X,y_true,w,b, reg_lambda = 0.1):\n",
    "    z = X @ w + b\n",
    "    y_pred = 1 / (1 + np.exp(-z))\n",
    "    log_loss = -np.mean(y_true * np.log(y_pred) + (1 - y_true) * np.log(1 - y_pred))\n",
    "    l2_penalty = (reg_lambda / (2 * n_samples)) * np.sum(w ** 2)\n",
    "    total_loss = log_loss + l2_penalty\n",
    "    return total_loss"
   ]
  },
  {
   "cell_type": "code",
   "execution_count": 122,
   "id": "371d3fdf",
   "metadata": {},
   "outputs": [
    {
     "name": "stdout",
     "output_type": "stream",
     "text": [
      "Test loss: 0.4164469804049391\n"
     ]
    }
   ],
   "source": [
    "total_loss = L2_logit_predict(X_test, y_test, w , b)\n",
    "\n",
    "print(\"Test loss:\", total_loss)"
   ]
  },
  {
   "cell_type": "markdown",
   "id": "9450eabf",
   "metadata": {},
   "source": [
    "L2 training loss is slightly higher because I added a penalty term to discourage large weights, but the difference between the two is very small. Test loss is almost identical, which may suggest that the model is not overfitting in the first place. Also, the data are relatively clean and low dimensional."
   ]
  },
  {
   "cell_type": "markdown",
   "id": "d8c8daef",
   "metadata": {},
   "source": [
    "## Scikit-Learn"
   ]
  },
  {
   "cell_type": "code",
   "execution_count": 130,
   "id": "6c123059",
   "metadata": {},
   "outputs": [
    {
     "name": "stdout",
     "output_type": "stream",
     "text": [
      "Scikit-learn Test Log Loss: 0.38161662995104506\n"
     ]
    }
   ],
   "source": [
    "# Fit sklearn logistic regression\n",
    "reg_lambda = 0.1\n",
    "# model = LogisticRegression(penalty='l2', C=1/reg_lambda, solver='lbfgs', max_iter=1000)\n",
    "model = LogisticRegression(penalty='l2', C=1/reg_lambda, solver='lbfgs', max_iter=5000)\n",
    "model.fit(X_train, y_train)\n",
    "\n",
    "# Predictions\n",
    "y_pred_prob = model.predict_proba(X_test)[:, 1] # Raw probabilities\n",
    "y_pred = model.predict(X_test) # Predicted classes\n",
    "\n",
    "# Evaluate\n",
    "test_log_loss = log_loss(y_test, y_pred_prob)\n",
    "\n",
    "print(\"Scikit-learn Test Log Loss:\", test_log_loss)\n"
   ]
  },
  {
   "cell_type": "code",
   "execution_count": 134,
   "id": "26a6836b",
   "metadata": {},
   "outputs": [
    {
     "data": {
      "text/plain": [
       "0.8584905660377359"
      ]
     },
     "execution_count": 134,
     "metadata": {},
     "output_type": "execute_result"
    }
   ],
   "source": [
    "# Mean accuracy\n",
    "model.score(X_test,y_test)"
   ]
  },
  {
   "cell_type": "code",
   "execution_count": 135,
   "id": "ab210c57",
   "metadata": {},
   "outputs": [
    {
     "name": "stdout",
     "output_type": "stream",
     "text": [
      "[[1076    8]\n",
      " [ 172   16]]\n"
     ]
    }
   ],
   "source": [
    "print(confusion_matrix(y_test,y_pred))"
   ]
  },
  {
   "cell_type": "code",
   "execution_count": 138,
   "id": "732f13cb",
   "metadata": {},
   "outputs": [
    {
     "name": "stdout",
     "output_type": "stream",
     "text": [
      "              precision    recall  f1-score   support\n",
      "\n",
      "           0       0.86      0.99      0.92      1084\n",
      "           1       0.67      0.09      0.15       188\n",
      "\n",
      "    accuracy                           0.86      1272\n",
      "   macro avg       0.76      0.54      0.54      1272\n",
      "weighted avg       0.83      0.86      0.81      1272\n",
      "\n"
     ]
    }
   ],
   "source": [
    "print(classification_report(y_test,y_pred))"
   ]
  },
  {
   "cell_type": "markdown",
   "id": "3bbc5348",
   "metadata": {},
   "source": [
    "The recall may be very low once again because of the class imbalance. Could potentially use class weighting to improve this performance by penalizing when the model misclassifies the minority class more heavily."
   ]
  }
 ],
 "metadata": {
  "kernelspec": {
   "display_name": "base",
   "language": "python",
   "name": "python3"
  },
  "language_info": {
   "codemirror_mode": {
    "name": "ipython",
    "version": 3
   },
   "file_extension": ".py",
   "mimetype": "text/x-python",
   "name": "python",
   "nbconvert_exporter": "python",
   "pygments_lexer": "ipython3",
   "version": "3.12.7"
  }
 },
 "nbformat": 4,
 "nbformat_minor": 5
}
